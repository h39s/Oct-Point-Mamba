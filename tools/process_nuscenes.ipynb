{
 "cells": [
  {
   "cell_type": "code",
   "execution_count": 1,
   "metadata": {},
   "outputs": [],
   "source": [
    "import os\n",
    "import numpy as np\n",
    "import torch\n",
    "from torch.utils.data import Dataset, DataLoader\n",
    "from nuscenes.nuscenes import NuScenes\n",
    "\n",
    "class NuScenesLidarDataset(Dataset):\n",
    "    def __init__(self, path, num_classes=32, version='v1.0-mini', lidarseg_path='lidarseg', split=\"test\"):\n",
    "        self.nusc = NuScenes(version=version, dataroot=path, verbose=False)\n",
    "        self.lidarseg_path = os.path.join(path, lidarseg_path, version)\n",
    "        self.num_classes = num_classes\n",
    "\n",
    "    def __len__(self):\n",
    "        return len(self.nusc.sample)\n",
    "\n",
    "    def __getitem__(self, idx):\n",
    "        sample = self.nusc.sample[idx]\n",
    "        lidar_token = sample['data']['LIDAR_TOP']\n",
    "        lidar_data = self.nusc.get('sample_data', lidar_token)\n",
    "        lidar_filepath = os.path.join(self.nusc.dataroot, lidar_data['filename'])\n",
    "        lidar_points = np.fromfile(lidar_filepath, dtype=np.float32).reshape(-1, 5)\n",
    "\n",
    "        # Load corresponding segmentation labels\n",
    "        lidarseg_filepath = os.path.join(self.lidarseg_path, lidar_token + '_lidarseg.bin')\n",
    "        if os.path.exists(lidarseg_filepath):\n",
    "            labels = np.fromfile(lidarseg_filepath, dtype=np.uint8)\n",
    "        else:\n",
    "            labels = np.zeros(len(lidar_points), dtype=np.uint8)\n",
    "\n",
    "        labels = labels[:, np.newaxis]\n",
    "\n",
    "        return lidar_points, labels, lidar_token\n"
   ]
  },
  {
   "cell_type": "code",
   "execution_count": 2,
   "metadata": {},
   "outputs": [],
   "source": [
    "os.makedirs('../data/nuscenes/train', exist_ok=True)"
   ]
  },
  {
   "cell_type": "code",
   "execution_count": 3,
   "metadata": {},
   "outputs": [],
   "source": [
    "nusc = NuScenesLidarDataset('/data/sets/nuscenes')"
   ]
  },
  {
   "cell_type": "code",
   "execution_count": 4,
   "metadata": {},
   "outputs": [
    {
     "name": "stdout",
     "output_type": "stream",
     "text": [
      "[ 98.83724976 103.82437134  29.0141201 ] [ -98.83724976 -103.82437134  -29.0141201 ]\n"
     ]
    }
   ],
   "source": [
    "max_xyz = np.zeros(3)\n",
    "min_xyz = np.zeros(3)\n",
    "for i in range(len(nusc)):\n",
    "    xyz = nusc[i][0][:, :3]\n",
    "    center = (xyz.min(axis=0) + xyz.max(axis=0)) / 2.0\n",
    "    xyz -= center\n",
    "    max_xyz = np.maximum(max_xyz, xyz.max(axis=0))\n",
    "    min_xyz = np.minimum(min_xyz, xyz.min(axis=0))\n",
    "print(max_xyz, min_xyz)"
   ]
  },
  {
   "cell_type": "code",
   "execution_count": 5,
   "metadata": {},
   "outputs": [
    {
     "name": "stdout",
     "output_type": "stream",
     "text": [
      "207.64874267578125\n"
     ]
    }
   ],
   "source": [
    "scale_factor = max(max_xyz - min_xyz)\n",
    "print(scale_factor)"
   ]
  },
  {
   "cell_type": "code",
   "execution_count": 6,
   "metadata": {},
   "outputs": [],
   "source": [
    "with open('../data/nuscenes/v1.0-mini.txt', 'w+') as f:\n",
    "\tfor i in range(len(nusc)):\n",
    "\t\tlidar_points, labels, scene_token = nusc[i]\n",
    "\t\toutput = {\n",
    "\t\t\t'points': lidar_points[:, :3],\n",
    "\t\t\t'colors': lidar_points[:, 3:],\n",
    "\t\t\t'labels': labels,\n",
    "\t\t}\n",
    "\t\tnp.savez('../data/nuscenes/train/' + scene_token + '.npz', **output)\n",
    "\t\tf.write(scene_token + '.npz\\n')"
   ]
  }
 ],
 "metadata": {
  "kernelspec": {
   "display_name": "oct-mamba",
   "language": "python",
   "name": "python3"
  },
  "language_info": {
   "codemirror_mode": {
    "name": "ipython",
    "version": 3
   },
   "file_extension": ".py",
   "mimetype": "text/x-python",
   "name": "python",
   "nbconvert_exporter": "python",
   "pygments_lexer": "ipython3",
   "version": "3.10.13"
  }
 },
 "nbformat": 4,
 "nbformat_minor": 2
}
